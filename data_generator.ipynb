{
 "cells": [
  {
   "cell_type": "markdown",
   "metadata": {},
   "source": [
    "## Loading modules and packages"
   ]
  },
  {
   "cell_type": "code",
   "execution_count": 1,
   "metadata": {},
   "outputs": [],
   "source": [
    "from etl.data_preperation.data_generator import generate_customer\n",
    "from etl.data_preperation.data_generator import generate_product\n",
    "from etl.data_preperation.data_generator import generate_orders\n",
    "from etl.data_preperation.data_generator import generate_employee\n",
    "from etl.data_preperation.data_generator import generate_sales\n",
    "import pandas as pd\n",
    "import random"
   ]
  },
  {
   "cell_type": "markdown",
   "metadata": {},
   "source": [
    "## Declaring Constants"
   ]
  },
  {
   "cell_type": "code",
   "execution_count": 3,
   "metadata": {},
   "outputs": [],
   "source": [
    "NUMBER_OF_TRANSACTIONS=5000\n",
    "NUMBER_OF_EMPLOYEES=100\n",
    "NUMBER_OF_CUSTOMERS=2000\n",
    "NUMBER_OF_ORDERS=200"
   ]
  },
  {
   "cell_type": "markdown",
   "metadata": {},
   "source": [
    "## Generating Employee Data"
   ]
  },
  {
   "cell_type": "code",
   "execution_count": 4,
   "metadata": {},
   "outputs": [],
   "source": [
    "employee_data = [generate_employee(employee_id) for employee_id in range(NUMBER_OF_EMPLOYEES)]\n",
    "\n",
    "pd.DataFrame(employee_data).to_csv('employee.csv', index=False)"
   ]
  },
  {
   "cell_type": "markdown",
   "metadata": {},
   "source": [
    "## Generating Customer Data"
   ]
  },
  {
   "cell_type": "code",
   "execution_count": 14,
   "metadata": {},
   "outputs": [
    {
     "data": {
      "text/html": [
       "<div>\n",
       "<style scoped>\n",
       "    .dataframe tbody tr th:only-of-type {\n",
       "        vertical-align: middle;\n",
       "    }\n",
       "\n",
       "    .dataframe tbody tr th {\n",
       "        vertical-align: top;\n",
       "    }\n",
       "\n",
       "    .dataframe thead th {\n",
       "        text-align: right;\n",
       "    }\n",
       "</style>\n",
       "<table border=\"1\" class=\"dataframe\">\n",
       "  <thead>\n",
       "    <tr style=\"text-align: right;\">\n",
       "      <th></th>\n",
       "      <th>customer_id</th>\n",
       "      <th>customer_name</th>\n",
       "      <th>address</th>\n",
       "      <th>city</th>\n",
       "      <th>zip_code</th>\n",
       "    </tr>\n",
       "  </thead>\n",
       "  <tbody>\n",
       "    <tr>\n",
       "      <th>0</th>\n",
       "      <td>0</td>\n",
       "      <td>Laura Ryan</td>\n",
       "      <td>81160 Alex Radial Apt. 985</td>\n",
       "      <td>Christineshire</td>\n",
       "      <td>06362</td>\n",
       "    </tr>\n",
       "    <tr>\n",
       "      <th>1</th>\n",
       "      <td>1</td>\n",
       "      <td>Pamela Johnson</td>\n",
       "      <td>1850 Lane Centers</td>\n",
       "      <td>West George</td>\n",
       "      <td>51668</td>\n",
       "    </tr>\n",
       "    <tr>\n",
       "      <th>2</th>\n",
       "      <td>2</td>\n",
       "      <td>Latasha Simmons</td>\n",
       "      <td>6399 Williams Drives</td>\n",
       "      <td>West Ashleymouth</td>\n",
       "      <td>52300</td>\n",
       "    </tr>\n",
       "    <tr>\n",
       "      <th>3</th>\n",
       "      <td>3</td>\n",
       "      <td>Maria Hall</td>\n",
       "      <td>180 Michael Ways</td>\n",
       "      <td>East Rossmouth</td>\n",
       "      <td>42871</td>\n",
       "    </tr>\n",
       "    <tr>\n",
       "      <th>4</th>\n",
       "      <td>4</td>\n",
       "      <td>Heather Chase</td>\n",
       "      <td>8339 Jesse Islands</td>\n",
       "      <td>North Catherine</td>\n",
       "      <td>12795</td>\n",
       "    </tr>\n",
       "  </tbody>\n",
       "</table>\n",
       "</div>"
      ],
      "text/plain": [
       "   customer_id    customer_name                     address              city  \\\n",
       "0            0       Laura Ryan  81160 Alex Radial Apt. 985    Christineshire   \n",
       "1            1   Pamela Johnson           1850 Lane Centers       West George   \n",
       "2            2  Latasha Simmons        6399 Williams Drives  West Ashleymouth   \n",
       "3            3       Maria Hall            180 Michael Ways    East Rossmouth   \n",
       "4            4    Heather Chase          8339 Jesse Islands   North Catherine   \n",
       "\n",
       "  zip_code  \n",
       "0    06362  \n",
       "1    51668  \n",
       "2    52300  \n",
       "3    42871  \n",
       "4    12795  "
      ]
     },
     "execution_count": 14,
     "metadata": {},
     "output_type": "execute_result"
    }
   ],
   "source": [
    "customer_data = [generate_customer(customer_id) for customer_id in range(NUMBER_OF_CUSTOMERS)] \n",
    "pd.DataFrame(customer_data).head()"
   ]
  },
  {
   "cell_type": "markdown",
   "metadata": {},
   "source": [
    "## Generating Product Data"
   ]
  },
  {
   "cell_type": "code",
   "execution_count": 15,
   "metadata": {},
   "outputs": [
    {
     "data": {
      "text/html": [
       "<div>\n",
       "<style scoped>\n",
       "    .dataframe tbody tr th:only-of-type {\n",
       "        vertical-align: middle;\n",
       "    }\n",
       "\n",
       "    .dataframe tbody tr th {\n",
       "        vertical-align: top;\n",
       "    }\n",
       "\n",
       "    .dataframe thead th {\n",
       "        text-align: right;\n",
       "    }\n",
       "</style>\n",
       "<table border=\"1\" class=\"dataframe\">\n",
       "  <thead>\n",
       "    <tr style=\"text-align: right;\">\n",
       "      <th></th>\n",
       "      <th>product_id</th>\n",
       "      <th>product_name</th>\n",
       "      <th>price</th>\n",
       "      <th>description</th>\n",
       "      <th>category</th>\n",
       "    </tr>\n",
       "  </thead>\n",
       "  <tbody>\n",
       "    <tr>\n",
       "      <th>0</th>\n",
       "      <td>1</td>\n",
       "      <td>Seek</td>\n",
       "      <td>742.60</td>\n",
       "      <td>Than young rate relationship human cultural.</td>\n",
       "      <td>Clothing</td>\n",
       "    </tr>\n",
       "    <tr>\n",
       "      <th>1</th>\n",
       "      <td>2</td>\n",
       "      <td>Feeling</td>\n",
       "      <td>51.17</td>\n",
       "      <td>Relationship west guy defense section movie fund.</td>\n",
       "      <td>Electronics</td>\n",
       "    </tr>\n",
       "    <tr>\n",
       "      <th>2</th>\n",
       "      <td>3</td>\n",
       "      <td>Five</td>\n",
       "      <td>500.93</td>\n",
       "      <td>Simple occur store these.</td>\n",
       "      <td>Books</td>\n",
       "    </tr>\n",
       "    <tr>\n",
       "      <th>3</th>\n",
       "      <td>4</td>\n",
       "      <td>Time</td>\n",
       "      <td>403.42</td>\n",
       "      <td>High per before own rate.</td>\n",
       "      <td>Clothing</td>\n",
       "    </tr>\n",
       "    <tr>\n",
       "      <th>4</th>\n",
       "      <td>5</td>\n",
       "      <td>Officer</td>\n",
       "      <td>212.83</td>\n",
       "      <td>Tonight free religious figure pick dream several.</td>\n",
       "      <td>Clothing</td>\n",
       "    </tr>\n",
       "  </tbody>\n",
       "</table>\n",
       "</div>"
      ],
      "text/plain": [
       "   product_id product_name   price  \\\n",
       "0           1         Seek  742.60   \n",
       "1           2      Feeling   51.17   \n",
       "2           3         Five  500.93   \n",
       "3           4         Time  403.42   \n",
       "4           5      Officer  212.83   \n",
       "\n",
       "                                         description     category  \n",
       "0       Than young rate relationship human cultural.     Clothing  \n",
       "1  Relationship west guy defense section movie fund.  Electronics  \n",
       "2                          Simple occur store these.        Books  \n",
       "3                          High per before own rate.     Clothing  \n",
       "4  Tonight free religious figure pick dream several.     Clothing  "
      ]
     },
     "execution_count": 15,
     "metadata": {},
     "output_type": "execute_result"
    }
   ],
   "source": [
    "product_data = [generate_product(product_id) for product_id in range(1, 101)]\n",
    "pd.DataFrame(product_data).head()"
   ]
  },
  {
   "cell_type": "markdown",
   "metadata": {},
   "source": [
    "## Generating Orders Data"
   ]
  },
  {
   "cell_type": "code",
   "execution_count": 16,
   "metadata": {},
   "outputs": [
    {
     "data": {
      "text/html": [
       "<div>\n",
       "<style scoped>\n",
       "    .dataframe tbody tr th:only-of-type {\n",
       "        vertical-align: middle;\n",
       "    }\n",
       "\n",
       "    .dataframe tbody tr th {\n",
       "        vertical-align: top;\n",
       "    }\n",
       "\n",
       "    .dataframe thead th {\n",
       "        text-align: right;\n",
       "    }\n",
       "</style>\n",
       "<table border=\"1\" class=\"dataframe\">\n",
       "  <thead>\n",
       "    <tr style=\"text-align: right;\">\n",
       "      <th></th>\n",
       "      <th>order_id</th>\n",
       "      <th>order_date</th>\n",
       "      <th>year</th>\n",
       "      <th>quarter</th>\n",
       "      <th>month</th>\n",
       "    </tr>\n",
       "  </thead>\n",
       "  <tbody>\n",
       "    <tr>\n",
       "      <th>0</th>\n",
       "      <td>0</td>\n",
       "      <td>2023-12-11 08:50:45</td>\n",
       "      <td>2023</td>\n",
       "      <td>4</td>\n",
       "      <td>December</td>\n",
       "    </tr>\n",
       "    <tr>\n",
       "      <th>1</th>\n",
       "      <td>1</td>\n",
       "      <td>2021-12-07 19:59:45</td>\n",
       "      <td>2021</td>\n",
       "      <td>4</td>\n",
       "      <td>December</td>\n",
       "    </tr>\n",
       "    <tr>\n",
       "      <th>2</th>\n",
       "      <td>2</td>\n",
       "      <td>2022-05-01 00:57:06</td>\n",
       "      <td>2022</td>\n",
       "      <td>2</td>\n",
       "      <td>May</td>\n",
       "    </tr>\n",
       "    <tr>\n",
       "      <th>3</th>\n",
       "      <td>3</td>\n",
       "      <td>2022-06-30 02:01:07</td>\n",
       "      <td>2022</td>\n",
       "      <td>2</td>\n",
       "      <td>June</td>\n",
       "    </tr>\n",
       "    <tr>\n",
       "      <th>4</th>\n",
       "      <td>4</td>\n",
       "      <td>2020-09-08 20:39:43</td>\n",
       "      <td>2020</td>\n",
       "      <td>3</td>\n",
       "      <td>September</td>\n",
       "    </tr>\n",
       "  </tbody>\n",
       "</table>\n",
       "</div>"
      ],
      "text/plain": [
       "   order_id          order_date  year  quarter      month\n",
       "0         0 2023-12-11 08:50:45  2023        4   December\n",
       "1         1 2021-12-07 19:59:45  2021        4   December\n",
       "2         2 2022-05-01 00:57:06  2022        2        May\n",
       "3         3 2022-06-30 02:01:07  2022        2       June\n",
       "4         4 2020-09-08 20:39:43  2020        3  September"
      ]
     },
     "execution_count": 16,
     "metadata": {},
     "output_type": "execute_result"
    }
   ],
   "source": [
    "order_data = [generate_orders(order_id) for order_id in range(NUMBER_OF_ORDERS)] \n",
    "pd.DataFrame(order_data).head()"
   ]
  },
  {
   "cell_type": "markdown",
   "metadata": {},
   "source": [
    "## Generating Sales Data"
   ]
  },
  {
   "cell_type": "code",
   "execution_count": 17,
   "metadata": {},
   "outputs": [],
   "source": [
    "sales_data = []\n",
    "\n",
    "\n",
    "for transaction_id in range(1, NUMBER_OF_TRANSACTIONS + 1):\n",
    "    # Assuming you have order_data, product_data, customer_data, and employee_data lists\n",
    "    order_id = random.randint(1, len(order_data))\n",
    "    product_id = random.randint(1, len(product_data))\n",
    "    customer_id = random.randint(1, len(customer_data))\n",
    "    employee_id = random.randint(1, len(employee_data))\n",
    "    \n",
    "    sale = generate_sales(transaction_id, order_id, product_id, customer_id, employee_id)\n",
    "    sales_data.append(sale)"
   ]
  },
  {
   "cell_type": "code",
   "execution_count": 18,
   "metadata": {},
   "outputs": [
    {
     "data": {
      "text/html": [
       "<div>\n",
       "<style scoped>\n",
       "    .dataframe tbody tr th:only-of-type {\n",
       "        vertical-align: middle;\n",
       "    }\n",
       "\n",
       "    .dataframe tbody tr th {\n",
       "        vertical-align: top;\n",
       "    }\n",
       "\n",
       "    .dataframe thead th {\n",
       "        text-align: right;\n",
       "    }\n",
       "</style>\n",
       "<table border=\"1\" class=\"dataframe\">\n",
       "  <thead>\n",
       "    <tr style=\"text-align: right;\">\n",
       "      <th></th>\n",
       "      <th>transaction_id</th>\n",
       "      <th>order_id</th>\n",
       "      <th>product_id</th>\n",
       "      <th>customer_id</th>\n",
       "      <th>employee_id</th>\n",
       "      <th>total_sales</th>\n",
       "      <th>quantity</th>\n",
       "      <th>discount</th>\n",
       "    </tr>\n",
       "  </thead>\n",
       "  <tbody>\n",
       "    <tr>\n",
       "      <th>0</th>\n",
       "      <td>1</td>\n",
       "      <td>154</td>\n",
       "      <td>62</td>\n",
       "      <td>871</td>\n",
       "      <td>98</td>\n",
       "      <td>459.99</td>\n",
       "      <td>6</td>\n",
       "      <td>0.26</td>\n",
       "    </tr>\n",
       "    <tr>\n",
       "      <th>1</th>\n",
       "      <td>2</td>\n",
       "      <td>161</td>\n",
       "      <td>97</td>\n",
       "      <td>932</td>\n",
       "      <td>18</td>\n",
       "      <td>21.82</td>\n",
       "      <td>2</td>\n",
       "      <td>0.17</td>\n",
       "    </tr>\n",
       "    <tr>\n",
       "      <th>2</th>\n",
       "      <td>3</td>\n",
       "      <td>150</td>\n",
       "      <td>65</td>\n",
       "      <td>677</td>\n",
       "      <td>73</td>\n",
       "      <td>455.59</td>\n",
       "      <td>5</td>\n",
       "      <td>0.07</td>\n",
       "    </tr>\n",
       "    <tr>\n",
       "      <th>3</th>\n",
       "      <td>4</td>\n",
       "      <td>123</td>\n",
       "      <td>15</td>\n",
       "      <td>1971</td>\n",
       "      <td>39</td>\n",
       "      <td>268.37</td>\n",
       "      <td>2</td>\n",
       "      <td>0.00</td>\n",
       "    </tr>\n",
       "    <tr>\n",
       "      <th>4</th>\n",
       "      <td>5</td>\n",
       "      <td>87</td>\n",
       "      <td>69</td>\n",
       "      <td>1054</td>\n",
       "      <td>41</td>\n",
       "      <td>459.90</td>\n",
       "      <td>4</td>\n",
       "      <td>0.44</td>\n",
       "    </tr>\n",
       "  </tbody>\n",
       "</table>\n",
       "</div>"
      ],
      "text/plain": [
       "   transaction_id  order_id  product_id  customer_id  employee_id  \\\n",
       "0               1       154          62          871           98   \n",
       "1               2       161          97          932           18   \n",
       "2               3       150          65          677           73   \n",
       "3               4       123          15         1971           39   \n",
       "4               5        87          69         1054           41   \n",
       "\n",
       "   total_sales  quantity  discount  \n",
       "0       459.99         6      0.26  \n",
       "1        21.82         2      0.17  \n",
       "2       455.59         5      0.07  \n",
       "3       268.37         2      0.00  \n",
       "4       459.90         4      0.44  "
      ]
     },
     "execution_count": 18,
     "metadata": {},
     "output_type": "execute_result"
    }
   ],
   "source": [
    "pd.DataFrame(sales_data).head()"
   ]
  },
  {
   "cell_type": "code",
   "execution_count": null,
   "metadata": {},
   "outputs": [],
   "source": []
  },
  {
   "cell_type": "markdown",
   "metadata": {},
   "source": []
  }
 ],
 "metadata": {
  "kernelspec": {
   "display_name": "venv",
   "language": "python",
   "name": "python3"
  },
  "language_info": {
   "codemirror_mode": {
    "name": "ipython",
    "version": 3
   },
   "file_extension": ".py",
   "mimetype": "text/x-python",
   "name": "python",
   "nbconvert_exporter": "python",
   "pygments_lexer": "ipython3",
   "version": "3.10.7"
  }
 },
 "nbformat": 4,
 "nbformat_minor": 2
}
